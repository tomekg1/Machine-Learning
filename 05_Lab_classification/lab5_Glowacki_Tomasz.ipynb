{
 "cells": [
  {
   "cell_type": "code",
   "execution_count": 60,
   "metadata": {},
   "outputs": [],
   "source": [
    "from sklearn import datasets\n",
    "from sklearn.model_selection import train_test_split\n",
    "from scipy.spatial import distance\n",
    "from sklearn.metrics import accuracy_score\n",
    "import numpy as np\n"
   ]
  },
  {
   "cell_type": "code",
   "execution_count": 61,
   "metadata": {},
   "outputs": [],
   "source": [
    "iris = datasets.load_iris()\n",
    "#separate the set for teaching and testing, test_size - percentage share (example 70% for training and 30% for testing)\n",
    "features_train, features_test, labels_train, labels_test = train_test_split(iris.data, iris.target, test_size=0.5)\n",
    " "
   ]
  },
  {
   "cell_type": "code",
   "execution_count": 62,
   "metadata": {},
   "outputs": [
    {
     "name": "stdout",
     "output_type": "stream",
     "text": [
      "Accuracy:0.9733333333333334\n"
     ]
    }
   ],
   "source": [
    "def knn(k):\n",
    "    predictions = []\n",
    "    for test in features_test:\n",
    "        dist = []\n",
    "        for train in features_train:\n",
    "            dst = distance.euclidean(test, train)\n",
    "            dist.append(dst)\n",
    "        ind = np.argpartition(dist, k)\n",
    "        k_nearest_labels = labels_train[ind[:k]]\n",
    "        count_class_occ = dict([x, list(k_nearest_labels).count(x)] for x in set(k_nearest_labels))\n",
    "        pred = max(count_class_occ, key=count_class_occ.get)\n",
    "        predictions.append(pred)\n",
    "    accuracy = accuracy_score(labels_test, predictions)\n",
    "    return predictions, accuracy\n",
    "\n",
    "predictions, accuracy = knn(6)\n",
    "print(f'Accuracy:{accuracy}')"
   ]
  },
  {
   "cell_type": "code",
   "execution_count": 63,
   "metadata": {},
   "outputs": [
    {
     "data": {
      "image/png": "[encoded data removed]",
      "text/plain": [
       "<Figure size 432x288 with 1 Axes>"
      ]
     },
     "metadata": {
      "needs_background": "light"
     },
     "output_type": "display_data"
    }
   ],
   "source": [
    "# propozycja najlepszej wartosci k\n",
    "import matplotlib.pyplot as plt\n",
    "acc = []\n",
    "for i in range(1, 30):\n",
    "    predictions, accuracy = knn(i)\n",
    "    acc.append(accuracy)\n",
    "plt.plot(range(1, 30), acc, marker='*', markerfacecolor='red')\n",
    "plt.grid()\n",
    "plt.show()"
   ]
  },
  {
   "cell_type": "code",
   "execution_count": 64,
   "metadata": {},
   "outputs": [
    {
     "name": "stdout",
     "output_type": "stream",
     "text": [
      "Najlepsze wartości k:\n",
      "[5]\n"
     ]
    }
   ],
   "source": [
    "best_k_val = []\n",
    "max_k_val = max(acc)\n",
    "for inx, val in enumerate(acc):\n",
    "    if val == max_k_val:\n",
    "        best_k_val.append(inx)\n",
    "\n",
    "print(f\"Najlepsze wartości k:\\n{best_k_val}\")"
   ]
  },
  {
   "cell_type": "code",
   "execution_count": 65,
   "metadata": {},
   "outputs": [
    {
     "name": "stdout",
     "output_type": "stream",
     "text": [
      "Accuracy:0.9733333333333334\n"
     ]
    }
   ],
   "source": [
    "from sklearn.neighbors import KNeighborsClassifier\n",
    "\n",
    "neigh = KNeighborsClassifier(n_neighbors=6)\n",
    "neigh.fit(features_train, labels_train)\n",
    "pred = neigh.predict(features_test)\n",
    "print(f'Accuracy:{accuracy_score(labels_test, pred)}')\n",
    "\n",
    "# to samo"
   ]
  },
  {
   "cell_type": "code",
   "execution_count": 66,
   "metadata": {},
   "outputs": [
    {
     "data": {
      "text/plain": [
       "True"
      ]
     },
     "execution_count": 66,
     "metadata": {},
     "output_type": "execute_result"
    }
   ],
   "source": [
    "from sklearn import tree\n",
    "from six import StringIO  \n",
    "import pydot \n",
    "clf = tree.DecisionTreeClassifier()\n",
    "clf.fit(iris.data, iris.target)\n",
    "clf.predict(iris.data[:1, :])\n",
    "dot_data = StringIO() \n",
    "tree.export_graphviz(clf, out_file=dot_data) \n",
    "graph = pydot.graph_from_dot_data(dot_data.getvalue()) \n",
    "graph[0].write(\"C:\\\\Users\\\\tomek\\\\Documents\\\\Uczenie maszynowe\\\\lab5\\\\iris.pdf\")"
   ]
  },
  {
   "cell_type": "code",
   "execution_count": 67,
   "metadata": {},
   "outputs": [
    {
     "name": "stdout",
     "output_type": "stream",
     "text": [
      "X_train (images, rows, cols): (70000, 28, 28)\n",
      "Y_train (images): (60000,)\n",
      "Image pixels: 784\n"
     ]
    }
   ],
   "source": [
    "# -*- coding: utf-8 -*-\n",
    "import matplotlib.pyplot as plt\n",
    "import numpy as np\n",
    "from sklearn.metrics import classification_report, confusion_matrix, f1_score\n",
    "from sklearn import tree\n",
    "from sklearn.model_selection import train_test_split\n",
    "from scipy.io import loadmat\n",
    "from keras.datasets import mnist\n",
    "\n",
    "# wczytywanie danych\n",
    "(trainX, trainY), (testX, testY) = mnist.load_data()\n",
    " \n",
    " \n",
    "#Ex.1.Divide the data into parameters X and answer y:\n",
    " \n",
    "X = np.concatenate([trainX, testX])\n",
    "y = np.concatenate([trainY, testY])\n",
    "# Standardization\n",
    "for i in range(X.shape[0]):\n",
    "    X[i,:] = X[i,:]/np.std(X[i,:])\n",
    " \n",
    "# Convert digit 10 -> 0 (error in the dataset)    \n",
    "y[np.where(y==10)]=0\n",
    " \n",
    "# the height and width of the picture with the number\n",
    "h = 28\n",
    "w = 28\n",
    " \n",
    "# Ex 2. Please display the number of digits and the number of pixels per image\n",
    "print('X_train (images, rows, cols): ' + str(X.shape))\n",
    "print('Y_train (images): ' + str(trainY.shape))\n",
    "print(f'Image pixels: {X.shape[1]*X.shape[2]}')"
   ]
  },
  {
   "cell_type": "code",
   "execution_count": 68,
   "metadata": {},
   "outputs": [
    {
     "data": {
      "image/png": "[encoded data removed]",
      "text/plain": [
       "<Figure size 518.4x518.4 with 12 Axes>"
      ]
     },
     "metadata": {},
     "output_type": "display_data"
    }
   ],
   "source": [
    "def plot_mnist(images, titles, h, w, n_row=3, n_col=4):\n",
    "    plt.figure(figsize=(1.8 * n_col, 2.4 * n_row))\n",
    "    plt.subplots_adjust(bottom=0, left=.01, right=.99, top=.90, hspace=.05)\n",
    "    for i in range(n_row * n_col):\n",
    "        plt.subplot(n_row, n_col, i + 1)\n",
    "        plt.imshow(images[i].reshape((h, w)).T, cmap=plt.cm.gray)\n",
    "        plt.title(titles[i], size=12)\n",
    "        plt.xticks(())\n",
    "        plt.yticks(())\n",
    "\n",
    "plot_mnist(X, y, h, w)"
   ]
  },
  {
   "cell_type": "code",
   "execution_count": 69,
   "metadata": {},
   "outputs": [],
   "source": [
    "X_train, X_test, y_train, y_test = train_test_split(X, y, test_size=0.3)\n",
    "\n",
    "X_train = X_train.reshape((X_train.shape[0], 28*28))\n",
    "X_test = X_test.reshape((X_test.shape[0], 28*28))"
   ]
  },
  {
   "cell_type": "code",
   "execution_count": 70,
   "metadata": {},
   "outputs": [
    {
     "name": "stdout",
     "output_type": "stream",
     "text": [
      "(49000, 784) (49000,)\n"
     ]
    }
   ],
   "source": [
    "DEPTH = 10\n",
    "clf = tree.DecisionTreeClassifier(max_depth=DEPTH)\n",
    "print(X_train.shape, y_train.shape)\n",
    "clf.fit(X_train, y_train)\n",
    "y_pred = clf.predict(X_test)"
   ]
  },
  {
   "cell_type": "code",
   "execution_count": 71,
   "metadata": {},
   "outputs": [
    {
     "name": "stdout",
     "output_type": "stream",
     "text": [
      "F1 result\n",
      "[0.90361738 0.94958163 0.78135353 0.80138889 0.82477876 0.73703041\n",
      " 0.86526213 0.8720491  0.78245788 0.7722372 ]\n"
     ]
    }
   ],
   "source": [
    "print(f\"F1 result\\n{f1_score(y_test, y_pred, average=None)}\")"
   ]
  },
  {
   "cell_type": "code",
   "execution_count": 72,
   "metadata": {},
   "outputs": [
    {
     "name": "stdout",
     "output_type": "stream",
     "text": [
      "Confusion matrix\n",
      "[[1861    0   51   21    3   43   25   15   41   20]\n",
      " [   0 2213   38   15    6   14   15   13   20    9]\n",
      " [  35   11 1651   60   42   35   60   49   81   18]\n",
      " [  12   15   62 1731   18  144   19   47   47   79]\n",
      " [  15    7   45   16 1631   45   39   21   17  209]\n",
      " [  23   10   52  187   24 1442   32   27   51   70]\n",
      " [  37    9   86    5   34   45 1766    4   64   16]\n",
      " [   6   12   51   29   39   26    5 1847   16   92]\n",
      " [  37   29   99   38   35  108   42   22 1579   95]\n",
      " [  13   12   49   44   78   93   13   68   36 1719]]\n"
     ]
    }
   ],
   "source": [
    "print(f\"Confusion matrix\\n{confusion_matrix(y_test, y_pred)}\")"
   ]
  },
  {
   "cell_type": "code",
   "execution_count": 73,
   "metadata": {},
   "outputs": [
    {
     "name": "stdout",
     "output_type": "stream",
     "text": [
      "Classification raport\n",
      "              precision    recall  f1-score   support\n",
      "\n",
      "           0       0.91      0.89      0.90      2080\n",
      "           1       0.95      0.94      0.95      2343\n",
      "           2       0.76      0.81      0.78      2042\n",
      "           3       0.81      0.80      0.80      2174\n",
      "           4       0.85      0.80      0.82      2045\n",
      "           5       0.72      0.75      0.74      1918\n",
      "           6       0.88      0.85      0.87      2066\n",
      "           7       0.87      0.87      0.87      2123\n",
      "           8       0.81      0.76      0.78      2084\n",
      "           9       0.74      0.81      0.77      2125\n",
      "\n",
      "    accuracy                           0.83     21000\n",
      "   macro avg       0.83      0.83      0.83     21000\n",
      "weighted avg       0.83      0.83      0.83     21000\n",
      "\n"
     ]
    }
   ],
   "source": [
    "print(f\"Classification raport\\n{classification_report(y_test, y_pred)}\")"
   ]
  }
 ],
 "metadata": {
  "kernelspec": {
   "display_name": "Python 3",
   "language": "python",
   "name": "python3"
  },
  "language_info": {
   "codemirror_mode": {
    "name": "ipython",
    "version": 3
   },
   "file_extension": ".py",
   "mimetype": "text/x-python",
   "name": "python",
   "nbconvert_exporter": "python",
   "pygments_lexer": "ipython3",
   "version": "3.9.4"
  },
  "orig_nbformat": 4,
  "vscode": {
   "interpreter": {
    "hash": "b7252c33f9540e92d27789de2269a062a4625258ba282fe7e852546783e4e4f9"
   }
  }
 },
 "nbformat": 4,
 "nbformat_minor": 2
}
